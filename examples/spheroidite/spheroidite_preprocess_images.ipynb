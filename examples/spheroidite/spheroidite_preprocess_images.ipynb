{
 "cells": [
  {
   "cell_type": "code",
   "execution_count": null,
   "metadata": {},
   "outputs": [],
   "source": [
    "import numpy as np\n",
    "import os\n",
    "import pathlib\n",
    "import pickle\n",
    "import skimage\n",
    "import skimage.io\n",
    "from skimage.transform import resize as im_resize\n",
    "\n"
   ]
  },
  {
   "cell_type": "code",
   "execution_count": null,
   "metadata": {},
   "outputs": [],
   "source": [
    "outlier_image_path = pathlib.Path('/media/ryan/TOSHIBA EXT/Research/datasets/uhcs-segment/images/spheroidite/annotation-800C-85H-Q-2.png')\n",
    "outlier_image = skimage.io.imread(outlier_image_path, as_gray=True)"
   ]
  },
  {
   "cell_type": "code",
   "execution_count": null,
   "metadata": {},
   "outputs": [],
   "source": [
    "import matplotlib.pyplot as plt\n",
    "plt.imshow(outlier_image, cmap='gray')\n",
    "plt.colorbar()"
   ]
  },
  {
   "cell_type": "code",
   "execution_count": null,
   "metadata": {},
   "outputs": [],
   "source": [
    "plt.imshow((outlier_image == 0).astype(np.float), cmap='gray')\n",
    "plt.colorbar()"
   ]
  },
  {
   "cell_type": "code",
   "execution_count": null,
   "metadata": {},
   "outputs": [],
   "source": [
    "def load_image_and_annotation(im_path, ann_path):\n",
    "    \"\"\"\n",
    "    Loads image and annotation, resizes annotation, and crops image to get final\n",
    "    correctly sized images/annotations without extra sem info on bottom of image\n",
    "    Args:\n",
    "        im_path: path to image\n",
    "        ann_path: path to annotation\n",
    "\n",
    "\n",
    "    returns:\n",
    "        img: r x c x 3 RGB image\n",
    "        ann: r x c annotation\n",
    "        size: (r, c) height, width of the image in pixels\n",
    "    \"\"\"\n",
    "    im_path = pathlib.Path(im_path)\n",
    "    ann_path = pathlib.Path(ann_path)\n",
    "    ext_mapper = {'.tiff': 255,\n",
    "                  '.png': 0}\n",
    "\n",
    "    ann = (skimage.io.imread(ann_path, as_gray=True) == ext_mapper[ann_path.suffix]).astype(np.float)\n",
    "\n",
    "    img = skimage.io.imread(im_path, as_gray=True)\n",
    "    img = skimage.color.gray2rgb(img)\n",
    "\n",
    "    # image and annotation should have the same width.\n",
    "    v_scale = img.shape[1]/ann.shape[1]\n",
    "\n",
    "    new_r = int(ann.shape[0]*v_scale)\n",
    "\n",
    "    # resize with 0 padding and nearest-neighbor interpolation\n",
    "    ann = im_resize(ann, (new_r, img.shape[1]), mode='constant', cval=0, order=0)\n",
    "\n",
    "    img = img[:ann.shape[0], :ann.shape[1], ...]\n",
    "    assert img.shape[:2] == ann.shape\n",
    "    return img, ann, ann.shape"
   ]
  },
  {
   "cell_type": "code",
   "execution_count": null,
   "metadata": {},
   "outputs": [],
   "source": [
    "data_root = pathlib.Path('/media/ryan/TOSHIBA EXT/Research/datasets/uhcs-segment/images/spheroidite/')\n",
    "with open(pathlib.Path(data_root, 'spheroidite-files.pickle'), 'rb') as f:\n",
    "    filename_subset = sorted(pickle.load(f))\n",
    "\n",
    "image_paths = {x.stem.replace('micrograph-','') : x for x in data_root.glob('micrograph*')}\n",
    "annotation_paths = {x.stem.replace('annotation-','') : x for x in data_root.glob('annotation*')}\n",
    "\n",
    "image_subset = [image_paths.get(x) for x in filename_subset if image_paths.get(x) is not None]\n",
    "annotation_subset = [annotation_paths.get(x) for x in filename_subset if annotation_paths.get(x) is not None]\n"
   ]
  },
  {
   "cell_type": "code",
   "execution_count": null,
   "metadata": {},
   "outputs": [],
   "source": [
    "process = False # if true, batch processes the images\n",
    "if process:\n",
    "    processed_img_dir = pathlib.Path('..','data','raw','spheroidite-images')\n",
    "    os.makedirs(processed_img_dir, exist_ok=True)\n",
    "\n",
    "    for ipath, apath in zip(image_subset, annotation_subset):\n",
    "        img, ann, size = load_image_and_annotation(ipath, apath)\n",
    "\n",
    "        size_str = '_sizeRC_{}_{}.png'.format(*size)\n",
    "        ipath_new = pathlib.Path(processed_img_dir, ipath.stem+size_str)\n",
    "        apath_new = pathlib.Path(processed_img_dir, apath.stem+size_str)\n",
    "\n",
    "        for im, im_path in zip([img, ann], [ipath_new, apath_new]):\n",
    "            skimage.io.imsave(im_path, im)\n"
   ]
  }
 ],
 "metadata": {
  "kernelspec": {
   "display_name": "Python 3",
   "language": "python",
   "name": "python3"
  },
  "language_info": {
   "codemirror_mode": {
    "name": "ipython",
    "version": 3
   },
   "file_extension": ".py",
   "mimetype": "text/x-python",
   "name": "python",
   "nbconvert_exporter": "python",
   "pygments_lexer": "ipython3",
   "version": "3.6.9"
  }
 },
 "nbformat": 4,
 "nbformat_minor": 4
}
