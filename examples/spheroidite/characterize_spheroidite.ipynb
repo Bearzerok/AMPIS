{
 "cells": [
  {
   "cell_type": "code",
   "execution_count": null,
   "metadata": {},
   "outputs": [],
   "source": [
    "import matplotlib.pyplot as plt\n",
    "import numpy as np\n",
    "import pandas as pd\n",
    "import pathlib\n",
    "import pickle\n",
    "import seaborn as sns\n",
    "import skimage\n",
    "import sys\n",
    "\n",
    "ampis_root = pathlib.Path('../../src/')\n",
    "assert ampis_root.is_dir()\n",
    "sys.path.append(str(ampis_root))\n",
    "from ampis.analyze import ordinal_hist_distance"
   ]
  },
  {
   "cell_type": "code",
   "execution_count": null,
   "metadata": {},
   "outputs": [],
   "source": [
    "with open('../../data/interim/instance_sets/spheroidite_gt_instance_sets.pickle', 'rb') as f:\n",
    "    gt_instances = pickle.load(f)\n",
    "with open('../../data/interim/instance_sets/spheroidite_pred_instance_sets.pickle', 'rb') as f:\n",
    "    pred_instances = pickle.load(f)"
   ]
  },
  {
   "cell_type": "code",
   "execution_count": null,
   "metadata": {},
   "outputs": [],
   "source": [
    "#pred = pred_instances[-1]\n",
    "df_pred = pd.concat([x.rprops for x in pred_instances])\n",
    "df_gt = pd.concat([x.rprops for x in gt_instances])\n"
   ]
  },
  {
   "cell_type": "code",
   "execution_count": null,
   "metadata": {},
   "outputs": [],
   "source": [
    "def quickplot(key, x=df_gt, y=df_pred,log=False, bin_width_k=1):\n",
    "    \n",
    "    \n",
    "    xdata = x[key].to_numpy(dtype=np.float)\n",
    "    ydata = y[key].to_numpy(dtype=np.float)\n",
    "    \n",
    "    colors = sns.color_palette('bright', 2)\n",
    "    \n",
    "    if log:\n",
    "        xdata = np.log10(xdata)\n",
    "        ydata = np.log10(ydata)\n",
    "    \n",
    "    \n",
    "    _, xbins = np.histogram(xdata)\n",
    "    _, ybins = np.histogram(ydata)\n",
    "    \n",
    "    bin_min = min(xbins.min(), ybins.min())\n",
    "    bin_max = max(xbins.max(), ybins.max())\n",
    "    \n",
    "    xbinsize = xbins[1]-xbins[0]\n",
    "    ybinsize = ybins[1]-ybins[0]\n",
    "    minbinsize = min(xbinsize, ybinsize)\n",
    "    \n",
    "    nbins = int(((bin_max-bin_min)/minbinsize+1)*bin_width_k)\n",
    "    \n",
    "    new_bins = np.linspace(bin_min, bin_max, num =nbins)\n",
    "    \n",
    "    gt_hist, gt_bins = np.histogram(xdata, bins=new_bins)\n",
    "    pred_hist, pred_bins = np.histogram(ydata, bins=new_bins)\n",
    "    \n",
    "    \n",
    "    fig, ax = plt.subplots(figsize=(10,5))\n",
    "    sns.distplot(xdata, bins=new_bins, color=colors[0], label='gt')\n",
    "    sns.distplot(ydata, bins=new_bins, color=colors[1], label='pred')\n",
    "    \n",
    "    xlabel = key if not log else 'log ' + key\n",
    "    ax.set_xlabel(xlabel)\n",
    "    ax.set_ylabel(\"relative frequency\")\n",
    "    ax.legend(fontsize=14)\n",
    "    plt.show()\n",
    "    \n",
    "    print('Normalized distance between histograms: {:.3f}'.format(ordinal_hist_distance(gt_hist, pred_hist)))\n",
    "    binsizes = new_bins[1:]-new_bins[:-1]\n",
    "    assert (binsizes.max()-binsizes.min()) / binsizes.min() < 0.001\n",
    "    print('Bin size: {:.3f}'.format(binsizes[0]))\n",
    "    "
   ]
  },
  {
   "cell_type": "code",
   "execution_count": null,
   "metadata": {},
   "outputs": [],
   "source": [
    "quickplot('area', bin_width_k=10)"
   ]
  },
  {
   "cell_type": "code",
   "execution_count": null,
   "metadata": {},
   "outputs": [],
   "source": [
    "quickplot('area', log=True, bin_width_k=3)"
   ]
  },
  {
   "cell_type": "code",
   "execution_count": null,
   "metadata": {},
   "outputs": [],
   "source": [
    "quickplot('solidity', bin_width_k=2)"
   ]
  },
  {
   "cell_type": "code",
   "execution_count": null,
   "metadata": {},
   "outputs": [],
   "source": [
    "quickplot('major_axis_length', bin_width_k=4)"
   ]
  },
  {
   "cell_type": "code",
   "execution_count": null,
   "metadata": {},
   "outputs": [],
   "source": [
    "quickplot('major_axis_length', log=True, bin_width_k=2)"
   ]
  }
 ],
 "metadata": {
  "kernelspec": {
   "display_name": "Python 3",
   "language": "python",
   "name": "python3"
  },
  "language_info": {
   "codemirror_mode": {
    "name": "ipython",
    "version": 3
   },
   "file_extension": ".py",
   "mimetype": "text/x-python",
   "name": "python",
   "nbconvert_exporter": "python",
   "pygments_lexer": "ipython3",
   "version": "3.6.9"
  }
 },
 "nbformat": 4,
 "nbformat_minor": 4
}
