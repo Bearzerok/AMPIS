{
 "cells": [
  {
   "cell_type": "code",
   "execution_count": null,
   "metadata": {},
   "outputs": [],
   "source": [
    "import matplotlib.pyplot as plt\n",
    "import numpy as np\n",
    "import pandas as pd\n",
    "import pathlib\n",
    "import pickle\n",
    "import seaborn as sns\n",
    "import skimage\n",
    "import sys\n",
    "\n",
    "ampis_root = pathlib.Path('../../../src/')\n",
    "assert ampis_root.is_dir()\n",
    "sys.path.append(str(ampis_root))\n",
    "\n",
    "from ampis.analyze import align_instance_sets\n",
    "sys.path.append('../')\n",
    "from characterize_powder import powder_satellite_image"
   ]
  },
  {
   "cell_type": "code",
   "execution_count": null,
   "metadata": {},
   "outputs": [],
   "source": [
    "with open('powder_particle_cval_validation_instance_sets.pickle', 'rb') as f:\n",
    "    particles = pickle.load(f)\n",
    "with open('satellite_cval_validation_instance_sets.pickle', 'rb') as f:\n",
    "    satellites = pickle.load(f)\n",
    "\n",
    "def unpack(x):\n",
    "    \"\"\"\n",
    "    x is a nested list of objects\n",
    "    \"\"\"\n",
    "    y = []\n",
    "    for sublist in x:\n",
    "        for item in sublist:\n",
    "            y.append(item)\n",
    "    return y\n",
    "\n",
    "particles_gt_instances = unpack(particles['gt_val'])\n",
    "particles_pred_instances = unpack(particles['pred_val'])\n",
    "        \n",
    "\n",
    "for gt, pred in zip(particles_gt_instances, particles_pred_instances):\n",
    "    assert gt.filepath.name == pred.filepath\n",
    "    pred.filepath = gt.filepath\n",
    "\n",
    "\n",
    "satellites_gt_instances = unpack(satellites['gt_val'])\n",
    "satellites_pred_instances = unpack(satellites['pred_val'])\n",
    "\n",
    "for gt, pred in zip(satellites_gt_instances, satellites_pred_instances):\n",
    "    assert gt.filepath.name == pred.filepath\n",
    "    pred.filepath = gt.filepath\n",
    "\n"
   ]
  },
  {
   "cell_type": "code",
   "execution_count": null,
   "metadata": {},
   "outputs": [],
   "source": [
    "# only keep gt satellites with corresponding particle masks drawn\n",
    "particles_gt_matched, satellites_gt_matched = align_instance_sets(particles_gt_instances, satellites_gt_instances)\n",
    "# makes sure order of particle predictions is same as particle gt\n",
    "particles_gt_matched, particles_pred_matched = align_instance_sets(particles_gt_matched, particles_pred_instances)\n",
    "# only keep pred instances with corresponding satellites\n",
    "particles_pred_matched, satellites_pred_matched = align_instance_sets(particles_pred_matched, satellites_pred_instances)"
   ]
  },
  {
   "cell_type": "code",
   "execution_count": null,
   "metadata": {},
   "outputs": [],
   "source": [
    "psi_gt = [powder_satellite_image(x, y) for x, y in zip(particles_gt_matched, satellites_gt_matched)]\n",
    "psi_pred =[powder_satellite_image(x, y) for x, y in zip(particles_pred_matched, satellites_pred_matched)]\n",
    "\n",
    "for pred_or_gt in [psi_gt, psi_pred]:\n",
    "    for psi in pred_or_gt:\n",
    "        assert psi.particles.filepath == psi.satellites.filepath\n",
    "        psi.particles.img = skimage.io.imread(psi.particles.filepath, as_gray=True)\n",
    "        psi.compute_matches()\n"
   ]
  },
  {
   "cell_type": "code",
   "execution_count": null,
   "metadata": {},
   "outputs": [],
   "source": [
    "fig, ax = plt.subplots(1,3, figsize=(15,5), dpi=300)\n",
    "for i, a in zip(np.random.choice(list(psi_gt[0].matches['match_pairs'].keys()), size=3, replace=False),\n",
    "                 ax.ravel()):\n",
    "    psi_gt[0].visualize_particle_with_satellites(i, a)\n",
    "ax[0].set_title('ground truth')    \n",
    "fig, ax = plt.subplots(1,3, figsize=(15,5), dpi=300)\n",
    "for i, a in zip(np.random.choice(list(psi_pred[0].matches['match_pairs'].keys()), size=3, replace=False),\n",
    "                 ax.ravel()):\n",
    "    psi_pred[0].visualize_particle_with_satellites(i, a)\n",
    "ax[0].set_title('predicted')\n",
    "plt.show()"
   ]
  },
  {
   "cell_type": "code",
   "execution_count": null,
   "metadata": {},
   "outputs": [],
   "source": [
    "psi_gt.matches.keys()"
   ]
  },
  {
   "cell_type": "code",
   "execution_count": null,
   "metadata": {},
   "outputs": [],
   "source": [
    "gt_n = np.array([len(psi.matches['match_pairs']) for psi in psi_gt], np.int)\n",
    "pred_n = np.array([len(psi.matches['match_pairs']) for psi in psi_pred], np.int)"
   ]
  },
  {
   "cell_type": "code",
   "execution_count": null,
   "metadata": {},
   "outputs": [],
   "source": [
    "pred_n/gt_n"
   ]
  },
  {
   "cell_type": "code",
   "execution_count": null,
   "metadata": {},
   "outputs": [],
   "source": [
    "print('Number of particles with satellites:\\n\\tgt: {}\\n\\tpred: {}\\n\\tratio: {:.3f}'.format(gt_n.sum(), pred_n.sum(), pred_n.sum()/gt_n.sum()))"
   ]
  }
 ],
 "metadata": {
  "kernelspec": {
   "display_name": "Python 3",
   "language": "python",
   "name": "python3"
  },
  "language_info": {
   "codemirror_mode": {
    "name": "ipython",
    "version": 3
   },
   "file_extension": ".py",
   "mimetype": "text/x-python",
   "name": "python",
   "nbconvert_exporter": "python",
   "pygments_lexer": "ipython3",
   "version": "3.6.9"
  }
 },
 "nbformat": 4,
 "nbformat_minor": 4
}
