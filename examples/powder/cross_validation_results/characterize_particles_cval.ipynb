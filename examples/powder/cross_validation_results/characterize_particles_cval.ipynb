{
 "cells": [
  {
   "cell_type": "code",
   "execution_count": null,
   "metadata": {},
   "outputs": [],
   "source": [
    "import matplotlib.pyplot as plt\n",
    "import numpy as np\n",
    "import pandas as pd\n",
    "import pathlib\n",
    "import pickle\n",
    "import seaborn as sns\n",
    "import skimage\n",
    "import sys\n",
    "\n",
    "ampis_root = pathlib.Path('../../../src/')\n",
    "assert ampis_root.is_dir()\n",
    "sys.path.append(str(ampis_root))\n",
    "from ampis.analyze import ordinal_hist_distance\n",
    "from scipy.stats import ks_2samp"
   ]
  },
  {
   "cell_type": "code",
   "execution_count": null,
   "metadata": {},
   "outputs": [],
   "source": [
    "with open('powder_particle_cval_validation_instance_sets.pickle', 'rb') as f:\n",
    "    particles = pickle.load(f)\n",
    "\n"
   ]
  },
  {
   "cell_type": "code",
   "execution_count": null,
   "metadata": {},
   "outputs": [],
   "source": [
    "gt = particles['gt_val']\n",
    "pred = particles['pred_val']\n",
    "\n",
    "gt_rprops = []\n",
    "for x in gt:\n",
    "    for y in x:\n",
    "        gt_rprops.append(y.rprops)\n",
    "pred_rprops = []\n",
    "for x in pred:\n",
    "    for y in x:\n",
    "        pred_rprops.append(y.rprops)\n",
    "        \n",
    "df_gt = pd.concat(gt_rprops)\n",
    "df_pred = pd.concat(pred_rprops)"
   ]
  },
  {
   "cell_type": "code",
   "execution_count": null,
   "metadata": {},
   "outputs": [],
   "source": [
    "len(df_gt), len(df_pred)"
   ]
  },
  {
   "cell_type": "code",
   "execution_count": null,
   "metadata": {},
   "outputs": [],
   "source": [
    "def quickplot(key, x=df_gt, y=df_pred,log=False, bin_width_k=1):\n",
    "    \n",
    "    \n",
    "    xdata = x[key].to_numpy(dtype=np.float)\n",
    "    ydata = y[key].to_numpy(dtype=np.float)\n",
    "    \n",
    "    colors = sns.color_palette('bright', 2)\n",
    "    \n",
    "    if log:\n",
    "        xdata = np.log10(xdata)\n",
    "        ydata = np.log10(ydata)\n",
    "    \n",
    "    \n",
    "    _, xbins = np.histogram(xdata)\n",
    "    _, ybins = np.histogram(ydata)\n",
    "    \n",
    "    bin_min = min(xbins.min(), ybins.min())\n",
    "    bin_max = max(xbins.max(), ybins.max())\n",
    "    \n",
    "    xbinsize = xbins[1]-xbins[0]\n",
    "    ybinsize = ybins[1]-ybins[0]\n",
    "    minbinsize = min(xbinsize, ybinsize)\n",
    "    \n",
    "    nbins = int(((bin_max-bin_min)/minbinsize+1)*bin_width_k)\n",
    "    \n",
    "    new_bins = np.linspace(bin_min, bin_max, num =nbins)\n",
    "    \n",
    "    gt_hist, gt_bins = np.histogram(xdata, bins=new_bins)\n",
    "    pred_hist, pred_bins = np.histogram(ydata, bins=new_bins)\n",
    "    \n",
    "    \n",
    "    fig, ax = plt.subplots(1,2, figsize=(8,5), dpi=300)\n",
    "    sns.distplot(xdata, bins=new_bins, color=colors[0], label='gt', ax=ax[0])\n",
    "    sns.distplot(ydata, bins=new_bins, color=colors[1], label='pred', ax=ax[0])\n",
    "    \n",
    "    xlabel = key if not log else 'log ' + key\n",
    "    ax[0].set_xlabel(xlabel)\n",
    "    ax[0].set_ylabel(\"relative frequency\")\n",
    "    ax[0].legend(fontsize=14)\n",
    "    \n",
    "    ### ks test\n",
    "    \n",
    "    \n",
    "    xunique, xcounts = np.unique(xdata, return_counts=True)\n",
    "    yunique, ycounts=np.unique(ydata, return_counts=True)\n",
    "    \n",
    "    all_unique = np.unique(np.concatenate((xunique, yunique)))\n",
    "    n = len(all_unique)\n",
    "    dist_x = np.zeros(n, np.int)\n",
    "    dist_y = np.zeros(n, np.int)\n",
    "    xunique_idx = (xunique[:,np.newaxis] == all_unique).argmax(axis=1)\n",
    "    yunique_idx = (yunique[:,np.newaxis] == all_unique).argmax(axis=1)\n",
    "    \n",
    "    dist_x[xunique_idx] = xcounts\n",
    "    dist_y[yunique_idx] = ycounts\n",
    "    \n",
    "    ax[1].plot(all_unique, dist_x.cumsum()/dist_x.sum(), color=colors[0], label='gt')\n",
    "    ax[1].plot(all_unique, dist_y.cumsum()/dist_y.sum(), color=colors[1], label='pred')\n",
    "    ax[1].legend()\n",
    "    \n",
    "    Dvalue, pvalue = ks_2samp(xdata, ydata) #TODO double check this, p values seem reallllly small for very similar looking distributions\n",
    "    \n",
    "    # p- value indicates probability of null hypothesis- distributions are the same\n",
    "    # high p- distributions are the same. low p- distributions are not the same.\n",
    "    \n",
    "    title_str = 'D: {:.3f}\\np(same dist):{}'.format(Dvalue, pvalue)\n",
    "    \n",
    "    ax[1].set_title(title_str)\n",
    "    \n",
    "    \n",
    "    \n",
    "    \n",
    "    plt.show()\n",
    "    \n",
    "    print('Normalized distance between histograms: {:.3f}'.format(ordinal_hist_distance(gt_hist, pred_hist)))\n",
    "    binsizes = new_bins[1:]-new_bins[:-1]\n",
    "    assert (binsizes.max()-binsizes.min()) / binsizes.min() < 0.001\n",
    "    print('Bin size: {:.3f}'.format(binsizes[0]))\n",
    "    \n",
    "    \n",
    "    \n",
    "    \n",
    "    \n",
    "    \n",
    "    "
   ]
  },
  {
   "cell_type": "code",
   "execution_count": null,
   "metadata": {},
   "outputs": [],
   "source": [
    "quickplot('area', bin_width_k = 3)"
   ]
  },
  {
   "cell_type": "code",
   "execution_count": null,
   "metadata": {},
   "outputs": [],
   "source": [
    "quickplot('area', log=True, bin_width_k = 2)"
   ]
  },
  {
   "cell_type": "code",
   "execution_count": null,
   "metadata": {},
   "outputs": [],
   "source": [
    "quickplot('solidity', bin_width_k = 3)"
   ]
  },
  {
   "cell_type": "code",
   "execution_count": null,
   "metadata": {},
   "outputs": [],
   "source": [
    "quickplot('major_axis_length', bin_width_k = 3)"
   ]
  },
  {
   "cell_type": "code",
   "execution_count": null,
   "metadata": {},
   "outputs": [],
   "source": [
    "quickplot('major_axis_length', log=True, bin_width_k=1.5)"
   ]
  }
 ],
 "metadata": {
  "kernelspec": {
   "display_name": "Python 3",
   "language": "python",
   "name": "python3"
  },
  "language_info": {
   "codemirror_mode": {
    "name": "ipython",
    "version": 3
   },
   "file_extension": ".py",
   "mimetype": "text/x-python",
   "name": "python",
   "nbconvert_exporter": "python",
   "pygments_lexer": "ipython3",
   "version": "3.6.9"
  }
 },
 "nbformat": 4,
 "nbformat_minor": 4
}
