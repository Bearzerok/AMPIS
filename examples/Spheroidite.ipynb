{
 "cells": [
  {
   "cell_type": "code",
   "execution_count": null,
   "metadata": {},
   "outputs": [],
   "source": [
    "import pathlib\n",
    "import numpy as np\n",
    "import skimage\n",
    "import skimage.measure\n",
    "import skimage.io\n",
    "import matplotlib.pyplot as plt"
   ]
  },
  {
   "cell_type": "code",
   "execution_count": null,
   "metadata": {},
   "outputs": [],
   "source": [
    "root = pathlib.Path('/media/ryan/TOSHIBA EXT/Research/datasets/uhcs-segment/images/spheroidite/')\n",
    "annotations = sorted(list(root.glob('annotation*')))\n",
    "micrographs = sorted(list(root.glob('micrograph*')))\n",
    "\n"
   ]
  },
  {
   "cell_type": "code",
   "execution_count": null,
   "metadata": {},
   "outputs": [],
   "source": [
    "len(annotations), len(micrographs)"
   ]
  },
  {
   "cell_type": "code",
   "execution_count": null,
   "metadata": {},
   "outputs": [],
   "source": [
    "annotations[0], micrographs[0]"
   ]
  },
  {
   "cell_type": "code",
   "execution_count": null,
   "metadata": {},
   "outputs": [],
   "source": [
    "i = 1\n",
    "\n",
    "a1 = skimage.io.imread(annotations[i])\n",
    "i1 = skimage.io.imread(micrographs[i])\n",
    "\n",
    "fig, ax = plt.subplots(1,2, sharey=True, figsize=(20,10), dpi=300)\n",
    "ax[0].imshow(i1, cmap='gray')\n",
    "ax[1].imshow(a1, cmap='jet')"
   ]
  },
  {
   "cell_type": "code",
   "execution_count": null,
   "metadata": {},
   "outputs": [],
   "source": [
    "labels = skimage.measure.label(a1.astype(np.bool))"
   ]
  },
  {
   "cell_type": "code",
   "execution_count": null,
   "metadata": {},
   "outputs": [],
   "source": [
    "plt.imshow(labels, cmap='jet')"
   ]
  },
  {
   "cell_type": "code",
   "execution_count": null,
   "metadata": {},
   "outputs": [],
   "source": [
    "np.unique(labels)"
   ]
  },
  {
   "cell_type": "code",
   "execution_count": null,
   "metadata": {},
   "outputs": [],
   "source": [
    "img[0,0], img1[0,0]"
   ]
  },
  {
   "cell_type": "code",
   "execution_count": null,
   "metadata": {},
   "outputs": [],
   "source": [
    "import mrcnn_utils\n",
    "mrcnn_utils.extract_bboxes((labels == 1)[:,:,np.newaxis])[0]"
   ]
  },
  {
   "cell_type": "code",
   "execution_count": null,
   "metadata": {},
   "outputs": [],
   "source": [
    "BoxMode.XYXY_ABS"
   ]
  },
  {
   "cell_type": "code",
   "execution_count": null,
   "metadata": {},
   "outputs": [],
   "source": [
    "from detectron2.structures import BoxMode, Instances\n",
    "from detectron2.data.detection_utils import annotations_to_instances\n",
    "import torch\n",
    "\n",
    "def load_labels(img_path, label_path, dclass):\n",
    "    \"\"\"\n",
    "    img_path: path to original image\n",
    "    label_path: path to annotation image\n",
    "    dclass: 'Training,' 'Validation', 'Testing', etc\n",
    "    \"\"\" \n",
    "\n",
    "    \n",
    "    # binary image- 1 for spheroidite, 0 for background\n",
    "    im = skimage.io.imread(label_path)\n",
    "    \n",
    "    r, c = im.shape\n",
    "    img = skimage.io.imread(img_path, as_gray=True)\n",
    "    img = skimage.color.gray2rgb(img)[:r,:c,...]\n",
    "    \n",
    "    \n",
    "    ddict = {'file_name': pathlib.Path(img_path),\n",
    "             'annotation_file': pathlib.Path(label_path),\n",
    "             'height': r,\n",
    "             'width': c,\n",
    "             'dataset_class': dclass,\n",
    "             'mask_format': \"bitmask\"}\n",
    "    \n",
    "    return ddict\n",
    "    \n",
    "    \n",
    "\n",
    "\n",
    "\n",
    "\n",
    "\n",
    "def mapper(ddict):\n",
    "    ext_mapper = {'.tiff':255,\n",
    "                 '.png':0}\n",
    "\n",
    "    im_b = skimage.io.imread(ddict['annotation_file']) == ext_mapper[ddict['annotation_file'].suffix]\n",
    "    \n",
    "    img = skimage.io.imread(ddict['file_name'], as_gray=True)[:ddict['height'], :ddict['width']]\n",
    "    img = skimage.color.gray2rgb(img)\n",
    "    \n",
    "    labels = skimage.measure.label(im_b)\n",
    "    unique = np.unique(labels)[1:] # ignore 0 pixels \n",
    "    \n",
    "    n = unique.shape[0]\n",
    "    \n",
    "    annotations=[]\n",
    "    for i in range(1,n+1):\n",
    "        mask = labels == i\n",
    "        bbox = mrcnn_utils.extract_bboxes(mask[:,:,np.newaxis])[0]\n",
    "        label = 0\n",
    "        annotations.append({'bbox': bbox,\n",
    "                            'bbox_mode': BoxMode.XYXY_ABS,\n",
    "                            'segmentation': mask,\n",
    "                            'category_id': label})\n",
    "    \n",
    "    instances = annotations_to_instances(annotations, img.shape[:2], mask_format='bitmask')\n",
    "    \n",
    "    dataset_dict = {}\n",
    "    for k, v in ddict.items():\n",
    "        dataset_dict[k] = v\n",
    "    # Pytorch's dataloader is efficient on torch.Tensor due to shared-memory,\n",
    "    # but not efficient on large generic data structures due to the use of pickle & mp.Queue.\n",
    "    # Therefore it's important to use torch.Tensor.\n",
    "    dataset_dict[\"image\"] = torch.as_tensor(np.ascontiguousarray(img.transpose(2, 0, 1)))\n",
    "    dataset_dict['instances'] = instances\n",
    "    \n",
    "    \n",
    "    return dataset_dict\n",
    "\n",
    "    \n",
    "    \n",
    "    \n",
    "    \n",
    "    \n",
    "    \n",
    "    "
   ]
  },
  {
   "cell_type": "code",
   "execution_count": null,
   "metadata": {},
   "outputs": [],
   "source": [
    "x = load_labels(micrographs[0], annotations[0], 'Train')\n",
    "y = mapper(x)"
   ]
  },
  {
   "cell_type": "code",
   "execution_count": null,
   "metadata": {},
   "outputs": [],
   "source": [
    "y['instances']"
   ]
  },
  {
   "cell_type": "code",
   "execution_count": null,
   "metadata": {},
   "outputs": [],
   "source": [
    "i = 0\n",
    "load_labels(micrographs[i], annotations[i])"
   ]
  },
  {
   "cell_type": "code",
   "execution_count": null,
   "metadata": {},
   "outputs": [],
   "source": [
    "for a in annotations:\n",
    "    load_labels(a)"
   ]
  },
  {
   "cell_type": "code",
   "execution_count": null,
   "metadata": {},
   "outputs": [],
   "source": [
    "i = 0\n",
    "img = skimage.io.imread(annotations[i])\n",
    "\n",
    "\n",
    "plt.imshow(img==0, cmap='gray')\n",
    "plt.colorbar()\n",
    "plt.title(annotations[i].name)"
   ]
  },
  {
   "cell_type": "code",
   "execution_count": null,
   "metadata": {},
   "outputs": [],
   "source": [
    "for a in annotations:\n",
    "    print(a.suffix)"
   ]
  },
  {
   "cell_type": "code",
   "execution_count": null,
   "metadata": {},
   "outputs": [],
   "source": [
    "annotations[0].name, annotations[1].name"
   ]
  },
  {
   "cell_type": "code",
   "execution_count": null,
   "metadata": {},
   "outputs": [],
   "source": [
    "i = 1\n",
    "img1 = skimage.io.imread(annotations[i])\n",
    "plt.imshow(img1==255, cmap='gray')\n",
    "plt.colorbar()\n",
    "plt.title(annotations[i].name)"
   ]
  },
  {
   "cell_type": "code",
   "execution_count": null,
   "metadata": {},
   "outputs": [],
   "source": [
    "for img, ann in zip(micrographs, annotations):\n",
    "    \n",
    "    a1 = skimage.io.imread(ann)\n",
    "    i1 = skimage.io.imread(img)\n",
    "\n",
    "    \n",
    "    fig, ax = plt.subplots(1,2, sharey=True, figsize=(20,10), dpi=300)\n",
    "    labels = skimage.measure.label(a1==0)\n",
    "    ax[0].imshow(i1, cmap='gray')\n",
    "    ax[1].imshow(a1, cmap='gray')\n",
    "    plt.show()\n",
    "    print(len(np.unique(labels.ravel())))\n",
    "    "
   ]
  }
 ],
 "metadata": {
  "kernelspec": {
   "display_name": "Python 3",
   "language": "python",
   "name": "python3"
  },
  "language_info": {
   "codemirror_mode": {
    "name": "ipython",
    "version": 3
   },
   "file_extension": ".py",
   "mimetype": "text/x-python",
   "name": "python",
   "nbconvert_exporter": "python",
   "pygments_lexer": "ipython3",
   "version": "3.6.9"
  }
 },
 "nbformat": 4,
 "nbformat_minor": 4
}
