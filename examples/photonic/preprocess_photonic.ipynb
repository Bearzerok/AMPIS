{
 "cells": [
  {
   "cell_type": "code",
   "execution_count": 1,
   "metadata": {},
   "outputs": [],
   "source": [
    "import matplotlib.pyplot as plt\n",
    "import numpy as np\n",
    "import pathlib\n",
    "import pickle\n",
    "import pycocotools.mask as RLE\n",
    "import skimage\n",
    "import skimage.io \n"
   ]
  },
  {
   "cell_type": "code",
   "execution_count": 2,
   "metadata": {},
   "outputs": [],
   "source": [
    "train_root = pathlib.Path('./train')\n",
    "train_image = [x for x in sorted(train_root.glob(\"*.png\")) if 'label' not in x.name][0]\n",
    "train_labels = sorted(train_root.glob(\"*.npy\"))[0]"
   ]
  },
  {
   "cell_type": "code",
   "execution_count": 3,
   "metadata": {},
   "outputs": [],
   "source": [
    "img = skimage.io.imread(train_image, as_gray=True)\n",
    "labels = np.load(train_labels)"
   ]
  },
  {
   "cell_type": "code",
   "execution_count": 5,
   "metadata": {},
   "outputs": [],
   "source": [
    "def split(data, n_row=2, n_col=2):\n",
    "    \"\"\"\n",
    "    Splits array into (approximately) even sub-arrays.\n",
    "    Used in this example to generate a dataset with multiple smaller images\n",
    "    from a single larger image. \n",
    "    \"\"\"\n",
    "    r, c = data.shape\n",
    "    \n",
    "    row_splits = np.linspace(0, r, n_row+1, dtype=np.int)\n",
    "    col_splits = np.linspace(0, c, n_col+1, dtype=np.int)\n",
    "\n",
    "    \n",
    "    splits = []\n",
    "    row_idx = []\n",
    "    col_idx = []\n",
    "    for r1, r2 in zip(row_splits[:-1], row_splits[1:]):\n",
    "        for c1, c2 in zip(col_splits[:-1], col_splits[1:]):\n",
    "            splits.append(data[r1:r2, c1:c2])\n",
    "            row_idx.append([r1,r2])\n",
    "            col_idx.append([c1,c2])\n",
    "    \n",
    "    return splits, row_idx, col_idx\n",
    "    "
   ]
  },
  {
   "cell_type": "code",
   "execution_count": 7,
   "metadata": {},
   "outputs": [],
   "source": [
    "im_processed_root = pathlib.Path('train_images_preprocessed')\n",
    "\n",
    "masks_rle = []\n",
    "label_paths = []\n",
    "\n",
    "for im, row_idx, col_idx in zip(*split(labels)):\n",
    "    unique = np.unique(im)\n",
    "    if unique[0] == 0:\n",
    "        unique = unique[1:]\n",
    "    masks_rle = []\n",
    "    bbox_xyxy_abs = []\n",
    "    for i in unique:\n",
    "        mask = im == i\n",
    "        yy, xx = np.where(mask)\n",
    "        bbox_xyxy_abs.append([xx.min(), yy.min(), xx.max(), yy.max()])\n",
    "        masks_rle.append(RLE.encode(np.asfortranarray(mask)))\n",
    "    bbox_xyxy_abs = np.asarray(bbox_xyxy_abs)\n",
    "    \n",
    "    results = {'mask': masks_rle,\n",
    "              'boxes': bbox_xyxy_abs}\n",
    "        \n",
    "    fname = '{}_r1r2c1c2_{:03}-{:03}-{:03}-{:03}.pickle'.format(train_labels.stem, *row_idx, *col_idx)\n",
    "    with open(im_processed_root / fname, 'wb') as f:\n",
    "        pickle.dump(results, f)\n",
    "\n",
    "    \n",
    "    \n",
    "    "
   ]
  },
  {
   "cell_type": "code",
   "execution_count": 8,
   "metadata": {},
   "outputs": [],
   "source": [
    "for im, row_idx, col_idx in zip(*split(img)):\n",
    "    fname = '{}_r1r2c1c2_{:03}-{:03}-{:03}-{:03}.png'.format(train_image.stem, *row_idx, *col_idx)\n",
    "    im = skimage.img_as_ubyte(im)\n",
    "\n",
    "    skimage.io.imsave(im_processed_root / fname, im)"
   ]
  },
  {
   "cell_type": "code",
   "execution_count": 43,
   "metadata": {},
   "outputs": [],
   "source": [
    "from detectron2.structures import BoxMode\n",
    "def get_data_dicts(data_root):\n",
    "    png_files = sorted(data_root.glob('*.png'))\n",
    "    pickle_files = sorted(data_root.glob('*.pickle'))\n",
    "    dataset_dicts = []\n",
    "    for i, (img_root, ann_root) in enumerate(zip(png_files, pickle_files)):\n",
    "        assert img_root.stem == ann_root.stem.replace('label_','')\n",
    "\n",
    "        \n",
    "        r1, r2, c1, c2 = [int(x) for x in img_root.stem.split('_')[-1].split('-')]\n",
    "        \n",
    "        record = {}\n",
    "        record['file_name'] = str(img_root)\n",
    "        record['height'] = r2-r1\n",
    "        record['width'] = c2-c1\n",
    "        record['image_id'] = i\n",
    "        \n",
    "        record['mask_format'] = 'bitmask'\n",
    "        \n",
    "        objs = []\n",
    "        with open(ann_root, 'rb') as f:\n",
    "            annos = pickle.load(f)\n",
    "        \n",
    "        for mask, box in zip(*annos.values()):\n",
    "            obj = {'bbox': box,\n",
    "                  'bbox_mode': BoxMode.XYXY_ABS,\n",
    "                   'segmentation': [mask],\n",
    "                   'category_id': 0\n",
    "                  }\n",
    "            objs.append(obj)\n",
    "\n",
    "        record['annotations'] = objs\n",
    "        record['num_instances'] = len(objs)\n",
    "        dataset_dicts.append(record)\n",
    "    return dataset_dicts\n",
    "        \n",
    "        \n",
    "        "
   ]
  },
  {
   "cell_type": "code",
   "execution_count": 44,
   "metadata": {},
   "outputs": [],
   "source": [
    "ddicts = get_data_dicts(im_processed_root)"
   ]
  },
  {
   "cell_type": "code",
   "execution_count": 52,
   "metadata": {},
   "outputs": [
    {
     "data": {
      "text/plain": [
       "[323, 301, 324, 348]"
      ]
     },
     "execution_count": 52,
     "metadata": {},
     "output_type": "execute_result"
    }
   ],
   "source": [
    "[len(x['annotations']) for x in ddicts]"
   ]
  }
 ],
 "metadata": {
  "kernelspec": {
   "display_name": "Python 3",
   "language": "python",
   "name": "python3"
  },
  "language_info": {
   "codemirror_mode": {
    "name": "ipython",
    "version": 3
   },
   "file_extension": ".py",
   "mimetype": "text/x-python",
   "name": "python",
   "nbconvert_exporter": "python",
   "pygments_lexer": "ipython3",
   "version": "3.6.9"
  }
 },
 "nbformat": 4,
 "nbformat_minor": 4
}
