{
 "cells": [
  {
   "cell_type": "code",
   "execution_count": 1,
   "metadata": {},
   "outputs": [],
   "source": [
    "import json\n",
    "\n",
    "import pickle\n",
    "import pycocotools.mask as RLE\n",
    "import pathlib\n",
    "\n",
    "import numpy as np\n",
    "\n",
    "ampis_root = pathlib.Path('../src/')\n",
    "assert ampis_root.is_dir()\n",
    "\n",
    "import explore_data_powder\n",
    "\n",
    "import sys\n",
    "sys.path.append(str(ampis_root))\n",
    "from ampis import analyze\n",
    "from ampis.structures import instance_set\n",
    "from ampis.visualize import quick_visualize_iset"
   ]
  },
  {
   "cell_type": "code",
   "execution_count": 2,
   "metadata": {},
   "outputs": [],
   "source": [
    "dataset_name_ = 'particle'\n",
    "\n",
    "gt_root = pathlib.Path('../data/raw/via_2.0.8/via_powder_particle_masks.json')\n",
    "pred_root = pathlib.Path('../data/interim/powder_results/particle_predictions_outputs_compressed.pickle')\n",
    "\n",
    "assert gt_root.is_file()\n",
    "assert pred_root.is_file()\n"
   ]
  },
  {
   "cell_type": "code",
   "execution_count": 3,
   "metadata": {},
   "outputs": [],
   "source": [
    "# predicted data loaded first- organized by training followed by validation\n",
    "with open(pred_root, 'rb') as f:\n",
    "    pred_data = pickle.load(f)\n",
    "\n",
    "gt_ddicts = explore_data_powder.get_data_dicts(gt_root)\n",
    "    \n"
   ]
  },
  {
   "cell_type": "code",
   "execution_count": 4,
   "metadata": {},
   "outputs": [],
   "source": [
    "pred_instances = [analyze.instance_set().read_from_model_out(\n",
    "    x,True) for x in pred_data.values()]\n",
    "    \n",
    "    \n",
    "gt_instances = [analyze.instance_set().read_from_ddict(x, True)\n",
    "              for x in explore_data_powder.get_data_dicts(gt_root)]\n",
    "\n",
    "metadata = explore_data_powder.get_metadata(gt_root)\n",
    "\n",
    "pred_instances, gt_instances = analyze.align_instance_sets(pred_instances, gt_instances)"
   ]
  },
  {
   "cell_type": "code",
   "execution_count": 5,
   "metadata": {},
   "outputs": [],
   "source": [
    "gt = gt_instances[-1]\n",
    "pred = pred_instances[-1]"
   ]
  },
  {
   "cell_type": "code",
   "execution_count": 6,
   "metadata": {},
   "outputs": [],
   "source": [
    "from ampis.structures import masks_to_bitmask_array"
   ]
  },
  {
   "cell_type": "code",
   "execution_count": 7,
   "metadata": {},
   "outputs": [
    {
     "data": {
      "text/plain": [
       "PolygonMasks(num_instances=238)"
      ]
     },
     "execution_count": 7,
     "metadata": {},
     "output_type": "execute_result"
    }
   ],
   "source": [
    "gt.instances.masks"
   ]
  },
  {
   "cell_type": "code",
   "execution_count": 8,
   "metadata": {},
   "outputs": [],
   "source": [
    "gt_masks = masks_to_bitmask_array(gt.instances.masks, gt.instances.image_size)"
   ]
  },
  {
   "cell_type": "code",
   "execution_count": 9,
   "metadata": {},
   "outputs": [],
   "source": [
    "pred_masks = masks_to_bitmask_array(pred.instances.masks)"
   ]
  },
  {
   "cell_type": "code",
   "execution_count": 26,
   "metadata": {},
   "outputs": [],
   "source": [
    "def size_thresh (x) : return x.sum((1,2)) > 100"
   ]
  },
  {
   "cell_type": "code",
   "execution_count": 29,
   "metadata": {},
   "outputs": [],
   "source": [
    "gt_masks_filt = gt_masks[size_thresh(gt_masks)]\n",
    "pred_masks_filt = pred_masks[size_thresh(pred_masks)]"
   ]
  },
  {
   "cell_type": "code",
   "execution_count": 13,
   "metadata": {},
   "outputs": [],
   "source": [
    "def brute_force_mask_match(gt, pred, thresh=0.5):\n",
    "    n_pred = pred.shape[0]\n",
    "    tp = []\n",
    "    fn = []\n",
    "    IOU = []\n",
    "    pred_matched = np.zeros(n_pred, np.bool)\n",
    "    \n",
    "    for gt_idx, gtMask in enumerate(gt):\n",
    "        \n",
    "        IOU_max = 0\n",
    "        IOU_Argmax = -1\n",
    "        for pred_idx, predMask in enumerate(pred):\n",
    "            iou_i = np.logical_and(gtMask, predMask).sum()/np.logical_or(gtMask,predMask).sum()\n",
    "            if iou_i > IOU_max:\n",
    "                IOU_max = iou_i\n",
    "                IOU_Argmax = pred_idx\n",
    "        \n",
    "        if IOU_max > thresh:\n",
    "            tp.append([gt_idx, IOU_Argmax])\n",
    "            IOU.append(IOU_max)\n",
    "            pred_matched[IOU_Argmax] = True\n",
    "        else:\n",
    "            fn.append(gt_idx)\n",
    "    \n",
    "    fp = np.asarray([x for x, y in enumerate(pred_matched) if not y], np.int)\n",
    "    tp = np.asarray(tp, np.int)\n",
    "    fn = np.asarray(fn, np.int)\n",
    "    IOU = np.asarray(IOU)\n",
    "    \n",
    "    return {'tp': tp,\n",
    "           'fp': fp,\n",
    "           'fn':fn,\n",
    "           'IOU': IOU}\n",
    "    \n",
    "    \n",
    "            \n",
    "            "
   ]
  },
  {
   "cell_type": "code",
   "execution_count": 30,
   "metadata": {},
   "outputs": [],
   "source": [
    "results = brute_force_mask_match(gt_masks_filt, pred_masks_filt)"
   ]
  },
  {
   "cell_type": "code",
   "execution_count": 37,
   "metadata": {},
   "outputs": [
    {
     "data": {
      "text/plain": [
       "193"
      ]
     },
     "execution_count": 37,
     "metadata": {},
     "output_type": "execute_result"
    }
   ],
   "source": [
    "len(pred_masks_filt)"
   ]
  },
  {
   "cell_type": "code",
   "execution_count": 36,
   "metadata": {},
   "outputs": [
    {
     "data": {
      "text/plain": [
       "213"
      ]
     },
     "execution_count": 36,
     "metadata": {},
     "output_type": "execute_result"
    }
   ],
   "source": [
    "len(gt_masks_filt)"
   ]
  },
  {
   "cell_type": "code",
   "execution_count": 33,
   "metadata": {},
   "outputs": [],
   "source": [
    "def match_stats(results):\n",
    "    tp = len(results['tp'])\n",
    "    fp = len(results['fp'])\n",
    "    fn = len(results['fn'])\n",
    "    print(tp, fp, fn)\n",
    "    print('precision: {}'.format(tp/(tp+fp)))\n",
    "    print('recall: {}'.format(tp/(tp+fn)))"
   ]
  },
  {
   "cell_type": "code",
   "execution_count": 34,
   "metadata": {},
   "outputs": [
    {
     "name": "stdout",
     "output_type": "stream",
     "text": [
      "178 15 35\n",
      "precision: 0.9222797927461139\n",
      "recall: 0.8356807511737089\n"
     ]
    }
   ],
   "source": [
    "match_stats(results)"
   ]
  }
 ],
 "metadata": {
  "kernelspec": {
   "display_name": "Python 3",
   "language": "python",
   "name": "python3"
  },
  "language_info": {
   "codemirror_mode": {
    "name": "ipython",
    "version": 3
   },
   "file_extension": ".py",
   "mimetype": "text/x-python",
   "name": "python",
   "nbconvert_exporter": "python",
   "pygments_lexer": "ipython3",
   "version": "3.6.9"
  }
 },
 "nbformat": 4,
 "nbformat_minor": 4
}
