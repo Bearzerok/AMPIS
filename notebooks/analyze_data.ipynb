{
 "cells": [
  {
   "cell_type": "code",
   "execution_count": null,
   "metadata": {},
   "outputs": [],
   "source": [
    "import os\n",
    "import pickle\n",
    "import numpy as np\n",
    "import detectron2\n",
    "import torch\n",
    "import mrcnn_utils\n",
    "import mrcnn_visualize\n",
    "import pathlib\n",
    "import skimage\n",
    "import skimage.io\n",
    "import evaluate\n",
    "\n",
    "import analyze\n",
    "import matplotlib.pyplot as plt"
   ]
  },
  {
   "cell_type": "code",
   "execution_count": null,
   "metadata": {},
   "outputs": [],
   "source": [
    "with open('../data/outputs_np.pickle', 'rb') as f:\n",
    "    pred_data = pickle.load(f)\n",
    "    \n",
    "gt_json_path = pathlib.Path('../data/raw/via_2.0.8/via_powder_particle_masks.json')\n",
    "gt_ddicts = analyze.get_data_dicts(gt_json_path)\n",
    "\n",
    "keys = list(pred_data.keys())"
   ]
  },
  {
   "cell_type": "code",
   "execution_count": null,
   "metadata": {},
   "outputs": [],
   "source": [
    "# ground truth\n",
    "i = 3\n",
    "gt = analyze.extract_gt(gt_ddicts[i])\n",
    "img = gt['img']\n",
    "boxes = gt['bboxes']\n",
    "masks = gt['masks']\n",
    "class_ids = gt['class_idx']\n",
    "colors = evaluate.random_colors(len(class_ids), 32)\n",
    "mrcnn_visualize.display_instances(img, boxes, masks, class_ids, [''], colors=colors)"
   ]
  },
  {
   "cell_type": "code",
   "execution_count": null,
   "metadata": {},
   "outputs": [],
   "source": [
    "## predictions with watershed, binary closing, and merging- fill in original masks (closes larger gaps)\n",
    "i = -1\n",
    "flist = list(pred_data.keys())\n",
    "instance = pred_data[flist[-1]][0]\n",
    "pmasks = np.transpose(instance['masks'], (1,2,0))\n",
    "pclass_ids = instance['class']\n",
    "masks_ws_merge, im_no_bg, = evaluate.refine_masks_watershed_li(img, pmasks, True, True, (0,0,0), merge=True)\n",
    "boxes_ws_merge = mrcnn_utils.extract_bboxes(masks_ws_merge)\n",
    "\n",
    "mrcnn_visualize.display_instances(im_no_bg, boxes_ws_merge, masks_ws_merge, pclass_ids, [''], colors=colors)"
   ]
  },
  {
   "cell_type": "code",
   "execution_count": null,
   "metadata": {},
   "outputs": [],
   "source": [
    "results = analyze.fast_instance_match(masks, pmasks)"
   ]
  },
  {
   "cell_type": "code",
   "execution_count": null,
   "metadata": {},
   "outputs": [],
   "source": [
    "i = 28\n",
    "m_idx = results['gt_tp'][i]\n",
    "fig, ax = plt.subplots(1,2)\n",
    "ax[0].imshow(masks[:,:,m_idx[0]])\n",
    "ax[1].imshow(pmasks[:,:,m_idx[1]])"
   ]
  },
  {
   "cell_type": "code",
   "execution_count": null,
   "metadata": {},
   "outputs": [],
   "source": [
    "plt.plot(results['IOU_match'])"
   ]
  },
  {
   "cell_type": "code",
   "execution_count": null,
   "metadata": {},
   "outputs": [],
   "source": [
    "pmasks_new = analyze.filter_mask_size(pmasks)"
   ]
  },
  {
   "cell_type": "code",
   "execution_count": null,
   "metadata": {},
   "outputs": [],
   "source": [
    "results.keys()"
   ]
  },
  {
   "cell_type": "code",
   "execution_count": null,
   "metadata": {},
   "outputs": [],
   "source": [
    "results"
   ]
  },
  {
   "cell_type": "code",
   "execution_count": null,
   "metadata": {},
   "outputs": [],
   "source": [
    "dir(evaluate)"
   ]
  },
  {
   "cell_type": "code",
   "execution_count": null,
   "metadata": {},
   "outputs": [],
   "source": []
  }
 ],
 "metadata": {
  "kernelspec": {
   "display_name": "Python 3",
   "language": "python",
   "name": "python3"
  },
  "language_info": {
   "codemirror_mode": {
    "name": "ipython",
    "version": 3
   },
   "file_extension": ".py",
   "mimetype": "text/x-python",
   "name": "python",
   "nbconvert_exporter": "python",
   "pygments_lexer": "ipython3",
   "version": "3.6.9"
  }
 },
 "nbformat": 4,
 "nbformat_minor": 4
}
