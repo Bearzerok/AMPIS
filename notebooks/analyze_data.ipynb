{
 "cells": [
  {
   "cell_type": "code",
   "execution_count": null,
   "metadata": {},
   "outputs": [],
   "source": [
    "import os\n",
    "import pickle\n",
    "import numpy as np\n",
    "import detectron2\n",
    "import torch\n",
    "import mrcnn_utils\n",
    "import mrcnn_visualize\n",
    "import pathlib\n",
    "import skimage\n",
    "import skimage.io\n",
    "import evaluate\n",
    "\n",
    "import analyze\n",
    "import matplotlib.pyplot as plt"
   ]
  },
  {
   "cell_type": "code",
   "execution_count": null,
   "metadata": {},
   "outputs": [],
   "source": [
    "with open('../data/outputs_np.pickle', 'rb') as f:\n",
    "    pred_data = pickle.load(f)\n",
    "\n",
    "pred_instances = [analyze.instance_set().read_from_numpy_out(\n",
    "    x,y,True) for x, y in pred_data.items()]\n",
    "    \n",
    "    \n",
    "gt_json_path = pathlib.Path('../data/raw/via_2.0.8/test_powder.json')\n",
    "gt_instances = [analyze.instance_set().read_from_ddict(x, True)\n",
    "             for x in analyze.get_data_dicts(gt_json_path)]\n",
    "\n",
    "gt_instances = [{x.filepath.name: x for x in gt_instances}[f] \n",
    "                for f in pred_data] # hacky but this rearranges \n",
    "                # the order of the instances so both sets are the same"
   ]
  },
  {
   "cell_type": "code",
   "execution_count": null,
   "metadata": {},
   "outputs": [],
   "source": [
    "# ground truth\n",
    "gt = gt_instances[-1]\n",
    "\n",
    "# predicted\n",
    "pred = pred_instances[-1]\n"
   ]
  },
  {
   "cell_type": "code",
   "execution_count": null,
   "metadata": {},
   "outputs": [],
   "source": [
    "# ground truth\n",
    "colors = evaluate.random_colors(len(gt.class_idx), 32)\n",
    "mrcnn_visualize.display_instances(gt.img, gt.boxes, gt.masks, \n",
    "                                  gt.class_idx, [''], colors=colors)"
   ]
  },
  {
   "cell_type": "code",
   "execution_count": null,
   "metadata": {},
   "outputs": [],
   "source": [
    "## original mask predictions \n",
    "\n",
    "pcolors = evaluate.random_colors(len(pred.class_idx), 34)\n",
    "mrcnn_visualize.display_instances(gt.img, pred.boxes, pred.masks, \n",
    "                                  pred.class_idx, [''], colors=pcolors)"
   ]
  },
  {
   "cell_type": "code",
   "execution_count": null,
   "metadata": {},
   "outputs": [],
   "source": [
    "# mask predictions with watershed update\n",
    "mask_ws, im_new = evaluate.refine_masks_watershed_li(gt.img, pred.masks, \n",
    "                                                     True, True, (0,0,0), True)\n",
    "box_new = mrcnn_utils.extract_bboxes(mask_ws)\n",
    "\n",
    "mrcnn_visualize.display_instances(im_new, box_new, mask_ws, \n",
    "                                  pred.class_idx, [''], colors=pcolors)"
   ]
  },
  {
   "cell_type": "code",
   "execution_count": null,
   "metadata": {},
   "outputs": [],
   "source": [
    "# filter out outlier masks\n",
    "gt_filt = analyze.filter_mask_size(gt.masks, bbox=gt.boxes, class_idx=gt.class_idx,\n",
    "                                  colors=np.asarray(colors))\n",
    "pred_filt = analyze.filter_mask_size(pred.masks, bbox=pred.boxes,\n",
    "                                            class_idx=pred.class_idx, colors=np.asarray(pcolors))\n"
   ]
  },
  {
   "cell_type": "code",
   "execution_count": null,
   "metadata": {},
   "outputs": [],
   "source": [
    "matches = analyze.fast_instance_match(gt_filt[0], pred_filt[0])"
   ]
  },
  {
   "cell_type": "code",
   "execution_count": null,
   "metadata": {},
   "outputs": [],
   "source": [
    "matches.keys()"
   ]
  },
  {
   "cell_type": "code",
   "execution_count": null,
   "metadata": {},
   "outputs": [],
   "source": [
    "# verify that instances are matched correctly\n",
    "i = 50\n",
    "m_idx = matches['gt_tp'][i]\n",
    "fig, ax = plt.subplots(1,2)\n",
    "ax[0].imshow(gt_filt[0][:,:,m_idx[0]])\n",
    "ax[1].imshow(pred_filt[0][:,:,m_idx[1]])\n",
    "ax[0].set_title('IOU: {:.3f}'.format(matches['IOU_match'][i]))\n",
    "fig.tight_layout()"
   ]
  },
  {
   "cell_type": "code",
   "execution_count": null,
   "metadata": {},
   "outputs": [],
   "source": [
    "# distribution of IOU scores for matches\n",
    "plt.hist(matches['IOU_match'])"
   ]
  },
  {
   "cell_type": "code",
   "execution_count": null,
   "metadata": {},
   "outputs": [],
   "source": [
    "stats = analyze.mask_match_stats(gt_filt[0], pred_filt[0])"
   ]
  },
  {
   "cell_type": "code",
   "execution_count": null,
   "metadata": {},
   "outputs": [],
   "source": [
    "stats['mask_recall'].mean()"
   ]
  },
  {
   "cell_type": "code",
   "execution_count": null,
   "metadata": {},
   "outputs": [],
   "source": [
    "titles = lambda x,y: 'match {0}: {1:.3f}\\nmask {0}:'.format(x,y)\n",
    "\n",
    "fig, ax = plt.subplots(1,2, sharey=True)\n",
    "ax[0].boxplot(stats['mask_precision'])\n",
    "ax[0].set_title(titles('precision',stats['match_precision']))\n",
    "\n",
    "ax[1].boxplot(stats['mask_recall'])\n",
    "ax[1].set_title(titles('recall',stats['match_recall']))\n"
   ]
  },
  {
   "cell_type": "code",
   "execution_count": null,
   "metadata": {},
   "outputs": [],
   "source": [
    "np.unique(colors, axis=1).shape"
   ]
  }
 ],
 "metadata": {
  "kernelspec": {
   "display_name": "Python 3",
   "language": "python",
   "name": "python3"
  },
  "language_info": {
   "codemirror_mode": {
    "name": "ipython",
    "version": 3
   },
   "file_extension": ".py",
   "mimetype": "text/x-python",
   "name": "python",
   "nbconvert_exporter": "python",
   "pygments_lexer": "ipython3",
   "version": "3.6.9"
  }
 },
 "nbformat": 4,
 "nbformat_minor": 4
}
