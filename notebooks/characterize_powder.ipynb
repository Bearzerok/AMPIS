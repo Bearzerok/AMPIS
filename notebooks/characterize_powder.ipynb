{
 "cells": [
  {
   "cell_type": "code",
   "execution_count": null,
   "metadata": {},
   "outputs": [],
   "source": [
    "import matplotlib.pyplot as plt\n",
    "import numpy as np\n",
    "import pandas as pd\n",
    "import pickle\n",
    "import seaborn as sns\n",
    "import skimage\n",
    "\n",
    "import analyze\n",
    "import evaluate"
   ]
  },
  {
   "cell_type": "code",
   "execution_count": null,
   "metadata": {},
   "outputs": [],
   "source": [
    "with open('../data/interim/instance_sets/particle_gt_instance_sets.pickle', 'rb') as f:\n",
    "    gt_instances = pickle.load(f)\n",
    "with open('../data/interim/instance_sets/particle_pred_instance_sets.pickle', 'rb') as f:\n",
    "    pred_instances = pickle.load(f)"
   ]
  },
  {
   "cell_type": "code",
   "execution_count": null,
   "metadata": {},
   "outputs": [],
   "source": [
    "#pred = pred_instances[-1]\n",
    "df_pred = pd.concat([x.compute_rprops(return_df=True) for x in pred_instances])\n",
    "df_gt = pd.concat([x.compute_rprops(return_df=True) for x in gt_instances])\n"
   ]
  },
  {
   "cell_type": "code",
   "execution_count": null,
   "metadata": {},
   "outputs": [],
   "source": [
    "fig, ax = plt.subplots(1,2, figsize=(10,5), sharey=True)\n",
    "\n",
    "for df, title, axis in zip([df_gt, df_pred], ['gt', 'pred'], ax.ravel()):\n",
    "    sns.distplot(df['area'], ax=axis)\n",
    "    axis.set_title(title)"
   ]
  },
  {
   "cell_type": "code",
   "execution_count": null,
   "metadata": {},
   "outputs": [],
   "source": [
    "fig, ax = plt.subplots(1,2, figsize=(10,5), sharey=True)\n",
    "\n",
    "for df, title, axis in zip([df_gt, df_pred], ['gt', 'pred'], ax.ravel()):\n",
    "    sns.distplot(np.log(np.stack(df['area'])), ax=axis)\n",
    "    axis.set_title(title)\n",
    "    axis.set_xlabel('log area')\n"
   ]
  },
  {
   "cell_type": "code",
   "execution_count": null,
   "metadata": {},
   "outputs": [],
   "source": [
    "fig, ax = plt.subplots(1,2, figsize=(10,5), sharey=True)\n",
    "\n",
    "for df, title, axis in zip([df_gt, df_pred], ['gt', 'pred'], ax.ravel()):\n",
    "    sns.distplot(df['solidity'], ax=axis)\n",
    "    axis.set_title(title)\n"
   ]
  },
  {
   "cell_type": "code",
   "execution_count": null,
   "metadata": {},
   "outputs": [],
   "source": [
    "fig, ax = plt.subplots(1,2, figsize=(10,5), sharey=True)\n",
    "\n",
    "for df, title, axis in zip([df_gt, df_pred], ['gt', 'pred'], ax.ravel()):\n",
    "    sns.distplot(df['major_axis_length'], ax=axis)\n",
    "    axis.set_title(title)"
   ]
  },
  {
   "cell_type": "code",
   "execution_count": null,
   "metadata": {},
   "outputs": [],
   "source": [
    "fig, ax = plt.subplots(1,2, figsize=(10,5), sharey=True)\n",
    "\n",
    "for df, title, axis in zip([df_gt, df_pred], ['gt', 'pred'], ax.ravel()):\n",
    "    sns.distplot(np.log(np.stack(df['major_axis_length'])), ax=axis)\n",
    "    axis.set_title(title)\n",
    "    axis.set_xlabel('log major axis length')\n",
    "\n"
   ]
  }
 ],
 "metadata": {
  "kernelspec": {
   "display_name": "Python 3",
   "language": "python",
   "name": "python3"
  },
  "language_info": {
   "codemirror_mode": {
    "name": "ipython",
    "version": 3
   },
   "file_extension": ".py",
   "mimetype": "text/x-python",
   "name": "python",
   "nbconvert_exporter": "python",
   "pygments_lexer": "ipython3",
   "version": "3.6.9"
  }
 },
 "nbformat": 4,
 "nbformat_minor": 4
}
