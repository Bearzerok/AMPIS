{
 "cells": [
  {
   "cell_type": "code",
   "execution_count": null,
   "metadata": {},
   "outputs": [],
   "source": [
    "import matplotlib.pyplot as plt\n",
    "import numpy as np\n",
    "import pandas as pd\n",
    "import pathlib\n",
    "import pickle\n",
    "import seaborn as sns\n",
    "import skimage\n",
    "\n",
    "import analyze\n",
    "import evaluate\n",
    "import characterize"
   ]
  },
  {
   "cell_type": "code",
   "execution_count": null,
   "metadata": {},
   "outputs": [],
   "source": [
    "!du -sh ../data/interim/instance_sets/*.pickle"
   ]
  },
  {
   "cell_type": "code",
   "execution_count": null,
   "metadata": {},
   "outputs": [],
   "source": [
    "with open('../data/interim/instance_sets/particle_gt_instance_sets.pickle', 'rb') as f:\n",
    "    particle_gt_instances = pickle.load(f)\n",
    "with open('../data/interim/instance_sets/satellite_gt_instance_sets.pickle', 'rb') as f:\n",
    "    satellite_gt_instances = pickle.load(f)\n",
    "\n",
    "with open('../data/interim/instance_sets/particle_pred_instance_sets.pickle', 'rb') as f:\n",
    "    particle_pred_instances = pickle.load(f)\n",
    "with open('../data/interim/instance_sets/satellite_pred_instance_sets.pickle', 'rb') as f:\n",
    "    satellite_pred_instances = pickle.load(f)\n",
    "root = pathlib.Path('../data/raw/images_png/')\n",
    "particle_pred_instances[0].img=skimage.color.gray2rgb(skimage.io.imread(pathlib.Path(root,particle_pred_instances[0].filename[0])))"
   ]
  },
  {
   "cell_type": "code",
   "execution_count": null,
   "metadata": {},
   "outputs": [],
   "source": [
    "particle = particle_pred_instances[0]\n",
    "satellites = satellite_pred_instances[0]"
   ]
  },
  {
   "cell_type": "code",
   "execution_count": null,
   "metadata": {},
   "outputs": [],
   "source": [
    "psi = characterize.powder_satellite_image(particle, satellites)\n",
    "psi.compute_matches()\n",
    "for x in [psi.particles, psi.satellites]:\n",
    "    x.boxes = x.boxes.astype(np.int)"
   ]
  },
  {
   "cell_type": "code",
   "execution_count": null,
   "metadata": {},
   "outputs": [],
   "source": [
    "psi.matches['particle_satellite_match_idx'].keys()"
   ]
  },
  {
   "cell_type": "code",
   "execution_count": null,
   "metadata": {},
   "outputs": [],
   "source": [
    "fig, ax = plt.subplots(1,3, figsize=(15,5), dpi=300)\n",
    "for i, a in zip(np.random.choice(list(psi.matches['particle_satellite_match_idx'].keys()), size=3, replace=False),\n",
    "                 ax.ravel()):\n",
    "    psi.visualize_particle_with_satellites(i, a)"
   ]
  },
  {
   "cell_type": "code",
   "execution_count": null,
   "metadata": {},
   "outputs": [],
   "source": []
  }
 ],
 "metadata": {
  "kernelspec": {
   "display_name": "Python 3",
   "language": "python",
   "name": "python3"
  },
  "language_info": {
   "codemirror_mode": {
    "name": "ipython",
    "version": 3
   },
   "file_extension": ".py",
   "mimetype": "text/x-python",
   "name": "python",
   "nbconvert_exporter": "python",
   "pygments_lexer": "ipython3",
   "version": "3.6.9"
  }
 },
 "nbformat": 4,
 "nbformat_minor": 4
}
