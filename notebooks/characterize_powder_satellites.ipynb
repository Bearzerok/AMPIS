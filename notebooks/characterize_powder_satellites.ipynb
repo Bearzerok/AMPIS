{
 "cells": [
  {
   "cell_type": "code",
   "execution_count": null,
   "metadata": {},
   "outputs": [],
   "source": [
    "import matplotlib.pyplot as plt\n",
    "import numpy as np\n",
    "import pandas as pd\n",
    "import pathlib\n",
    "import pickle\n",
    "import seaborn as sns\n",
    "import skimage\n",
    "\n",
    "import analyze\n",
    "import evaluate\n",
    "import characterize"
   ]
  },
  {
   "cell_type": "code",
   "execution_count": null,
   "metadata": {},
   "outputs": [],
   "source": [
    "with open('../data/interim/instance_sets/particle_gt_instance_sets.pickle', 'rb') as f:\n",
    "    particle_gt_instances = pickle.load(f)\n",
    "with open('../data/interim/instance_sets/satellite_gt_instance_sets.pickle', 'rb') as f:\n",
    "    satellite_gt_instances = pickle.load(f)\n",
    "\n",
    "with open('../data/interim/instance_sets/particle_pred_instance_sets.pickle', 'rb') as f:\n",
    "    particle_pred_instances = pickle.load(f)    \n",
    "with open('../data/interim/instance_sets/satellite_pred_instance_sets.pickle', 'rb') as f:\n",
    "    satellite_pred_instances = pickle.load(f)"
   ]
  },
  {
   "cell_type": "code",
   "execution_count": null,
   "metadata": {},
   "outputs": [],
   "source": [
    "for group in [particle_pred_instances, satellite_pred_instances]: # fix for filepaths stored as tuples, TODO remove after bug fix\n",
    "    for instance in group:\n",
    "        instance.filepath = instance.filename[0]"
   ]
  },
  {
   "cell_type": "code",
   "execution_count": null,
   "metadata": {},
   "outputs": [],
   "source": [
    "def instance_pair_matcher(A, B):\n",
    "    \"\"\"\n",
    "    matches instance lists A and B based on their filenames\n",
    "    \"\"\"\n",
    "    \n",
    "    Bdict = {pathlib.Path(item.filepath).name : item for item in B}\n",
    "    \n",
    "    A_matched = []\n",
    "    B_matched = []\n",
    "    for item in A:\n",
    "        x = Bdict.get(pathlib.Path(item.filepath).name, None)\n",
    "        if x is not None:\n",
    "            A_matched.append(item)\n",
    "            B_matched.append(x)\n",
    "    return A_matched, B_matched\n",
    "    "
   ]
  },
  {
   "cell_type": "code",
   "execution_count": null,
   "metadata": {},
   "outputs": [],
   "source": [
    "# only keep gt satellites with corresponding particle masks drawn\n",
    "particle_gt_matched, satellite_gt_matched = instance_pair_matcher(particle_gt_instances, satellite_gt_instances)\n",
    "# makes sure order of particle predictions is same as particle gt\n",
    "particle_gt_matched, particle_pred_matched = instance_pair_matcher(particle_gt_matched, particle_pred_instances)\n",
    "# only keep pred instances with corresponding satellites\n",
    "particle_pred_matched, satellite_pred_matched = instance_pair_matcher(particle_pred_matched, satellite_pred_instances)"
   ]
  },
  {
   "cell_type": "code",
   "execution_count": null,
   "metadata": {},
   "outputs": [],
   "source": [
    "for gt, pred in zip(particle_gt_matched, particle_pred_matched):\n",
    "    pred.img = gt.img"
   ]
  },
  {
   "cell_type": "code",
   "execution_count": null,
   "metadata": {},
   "outputs": [],
   "source": [
    "val_mask = [x.dataset_type=='Validation' for x in particle_gt_matched]\n",
    "\n",
    "particle_gt_val = [x for x, b in zip(particle_gt_matched, val_mask) if b][0]\n",
    "satellite_gt_val =[x for x, b in zip(satellite_gt_matched, val_mask) if b][0]\n",
    "particle_pred_val = [x for x, b in zip(particle_pred_matched, val_mask) if b][0]\n",
    "satellite_pred_val = [x for x, b in zip(satellite_pred_matched, val_mask) if b][0]\n"
   ]
  },
  {
   "cell_type": "code",
   "execution_count": null,
   "metadata": {},
   "outputs": [],
   "source": [
    "psi_gt = characterize.powder_satellite_image(particle_gt_val, satellite_gt_val)\n",
    "psi_pred = characterize.powder_satellite_image(particle_pred_val, satellite_pred_val)\n",
    "\n",
    "psi_gt.compute_matches()\n",
    "psi_pred.compute_matches()\n",
    "\n",
    "for x in [psi_gt, psi_pred]:\n",
    "    for y in [x.particles, x.satellites]:\n",
    "        y.boxes =y.boxes.astype(np.int)"
   ]
  },
  {
   "cell_type": "code",
   "execution_count": null,
   "metadata": {},
   "outputs": [],
   "source": [
    "psi_gt.matches['particle_satellite_match_idx'].keys()"
   ]
  },
  {
   "cell_type": "code",
   "execution_count": null,
   "metadata": {},
   "outputs": [],
   "source": [
    "fig, ax = plt.subplots(1,3, figsize=(15,5), dpi=300)\n",
    "for i, a in zip(np.random.choice(list(psi_gt.matches['particle_satellite_match_idx'].keys()), size=3, replace=False),\n",
    "                 ax.ravel()):\n",
    "    psi_gt.visualize_particle_with_satellites(i, a)\n",
    "ax[0].set_title('ground truth')    \n",
    "fig, ax = plt.subplots(1,3, figsize=(15,5), dpi=300)\n",
    "for i, a in zip(np.random.choice(list(psi_pred.matches['particle_satellite_match_idx'].keys()), size=3, replace=False),\n",
    "                 ax.ravel()):\n",
    "    psi_pred.visualize_particle_with_satellites(i, a)\n",
    "ax[0].set_title('predicted')"
   ]
  },
  {
   "cell_type": "code",
   "execution_count": null,
   "metadata": {},
   "outputs": [],
   "source": [
    "gt_n = psi_gt.matches['particles_matched'].shape[0]\n",
    "pred_n = psi_pred.matches['particles_matched'].shape[0]\n",
    "print('Number of particles with satellites:\\n\\tgt: {}\\n\\tpred: {}\\n\\tratio: {:.3f}'.format(gt_n, pred_n, pred_n/gt_n))"
   ]
  }
 ],
 "metadata": {
  "kernelspec": {
   "display_name": "Python 3",
   "language": "python",
   "name": "python3"
  },
  "language_info": {
   "codemirror_mode": {
    "name": "ipython",
    "version": 3
   },
   "file_extension": ".py",
   "mimetype": "text/x-python",
   "name": "python",
   "nbconvert_exporter": "python",
   "pygments_lexer": "ipython3",
   "version": "3.6.9"
  }
 },
 "nbformat": 4,
 "nbformat_minor": 4
}
